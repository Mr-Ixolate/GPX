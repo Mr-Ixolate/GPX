{
 "cells": [
  {
   "cell_type": "code",
   "execution_count": null,
   "metadata": {},
   "outputs": [],
   "source": [
    "import pandas as pd\n",
    "import osgb\n",
    "import gpxpy\n",
    "import gpxpy.gpx\n",
    "import lxml.etree as mod_etree"
   ]
  },
  {
   "cell_type": "code",
   "execution_count": null,
   "metadata": {},
   "outputs": [],
   "source": [
    "df = pd.read_csv('coords.csv')\n",
    "df.head(3)"
   ]
  },
  {
   "cell_type": "code",
   "execution_count": null,
   "metadata": {},
   "outputs": [],
   "source": [
    "df['lat_long']=df['Grid Ref'].apply(osgb.parse_grid).apply(osgb.grid_to_ll)\n",
    "df.head(3)"
   ]
  },
  {
   "cell_type": "code",
   "execution_count": null,
   "metadata": {},
   "outputs": [],
   "source": [
    "gpx = gpxpy.gpx.GPX()\n",
    "gpx.name = 'Chiltern Kanter Long Route'\n",
    "\n",
    "# creates track and segments\n",
    "track = gpxpy.gpx.GPXTrack()\n",
    "gpx.tracks.append(track)\n",
    "\n",
    "segment = gpxpy.gpx.GPXTrackSegment()\n",
    "track.segments.append(segment)\n",
    "\n",
    "for coords in df['lat_long']:\n",
    "    segment.points.append(gpxpy.gpx.GPXTrackPoint(*coords))"
   ]
  },
  {
   "cell_type": "code",
   "execution_count": null,
   "metadata": {},
   "outputs": [],
   "source": [
    "#definition of extension\n",
    "namespace = '{opencpn}'\n",
    "\n",
    "#create extension element\n",
    "root = mod_etree.Element(f'{namespace}scale_min_max')\n",
    "#mod_etree.SubElement(root, f'{namespace}UseScale')\n",
    "root.attrib['UseScale'] = \"true\"\n",
    "root.attrib['ScaleMin'] = \"50000\"\n",
    "root.attrib['ScaleMax'] = \"0\""
   ]
  },
  {
   "cell_type": "code",
   "execution_count": null,
   "metadata": {},
   "outputs": [],
   "source": [
    "# uses itertuples and rows, rows need indexes instead of column names\n",
    "for row in df.itertuples(index=False):\n",
    "    waypoint = gpxpy.gpx.GPXWaypoint()\n",
    "    waypoint.latitude = row[5][0]\n",
    "    waypoint.longitude = row[5][1]\n",
    "    waypoint.name = row[2]\n",
    "    waypoint.description = row[3]\n",
    "    waypoint.symbol = \"Marks-Mooring-Float\"\n",
    "    waypoint.extensions.append(root)\n",
    "\n",
    "    gpx.waypoints.append(waypoint)"
   ]
  },
  {
   "cell_type": "code",
   "execution_count": null,
   "metadata": {},
   "outputs": [],
   "source": [
    "filename = 'chiltern'\n",
    "\n",
    "with open(f'{filename}.gpx','w') as g_file:\n",
    "    g_file.write(gpx.to_xml())"
   ]
  }
 ],
 "metadata": {
  "kernelspec": {
   "display_name": ".venv",
   "language": "python",
   "name": "python3"
  },
  "language_info": {
   "codemirror_mode": {
    "name": "ipython",
    "version": 3
   },
   "file_extension": ".py",
   "mimetype": "text/x-python",
   "name": "python",
   "nbconvert_exporter": "python",
   "pygments_lexer": "ipython3",
   "version": "3.11.0"
  },
  "orig_nbformat": 4,
  "vscode": {
   "interpreter": {
    "hash": "8fe41a5527e44e770a5b10915703bc839dbc8350bda0a55163374b0033d1e0ec"
   }
  }
 },
 "nbformat": 4,
 "nbformat_minor": 2
}
