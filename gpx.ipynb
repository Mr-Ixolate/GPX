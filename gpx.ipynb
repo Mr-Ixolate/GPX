{
 "cells": [
  {
   "cell_type": "code",
   "execution_count": 34,
   "metadata": {},
   "outputs": [],
   "source": [
    "import pandas as pd\n",
    "import osgb"
   ]
  },
  {
   "cell_type": "code",
   "execution_count": 35,
   "metadata": {},
   "outputs": [
    {
     "data": {
      "text/html": [
       "<div>\n",
       "<style scoped>\n",
       "    .dataframe tbody tr th:only-of-type {\n",
       "        vertical-align: middle;\n",
       "    }\n",
       "\n",
       "    .dataframe tbody tr th {\n",
       "        vertical-align: top;\n",
       "    }\n",
       "\n",
       "    .dataframe thead th {\n",
       "        text-align: right;\n",
       "    }\n",
       "</style>\n",
       "<table border=\"1\" class=\"dataframe\">\n",
       "  <thead>\n",
       "    <tr style=\"text-align: right;\">\n",
       "      <th></th>\n",
       "      <th>Unnamed: 0</th>\n",
       "      <th>Grid Ref</th>\n",
       "      <th>Location</th>\n",
       "      <th>Question</th>\n",
       "      <th>Answer</th>\n",
       "    </tr>\n",
       "  </thead>\n",
       "  <tbody>\n",
       "    <tr>\n",
       "      <th>0</th>\n",
       "      <td>1</td>\n",
       "      <td>SP 9452 1567</td>\n",
       "      <td>Pitstone Windmill</td>\n",
       "      <td>How many steps up to the windmill?</td>\n",
       "      <td>NaN</td>\n",
       "    </tr>\n",
       "    <tr>\n",
       "      <th>1</th>\n",
       "      <td>2</td>\n",
       "      <td>SP 9589 1534</td>\n",
       "      <td>FPS at X tracks</td>\n",
       "      <td>How far to Ivinghoe Beacon in km?</td>\n",
       "      <td>NaN</td>\n",
       "    </tr>\n",
       "    <tr>\n",
       "      <th>2</th>\n",
       "      <td>3</td>\n",
       "      <td>SP 9596 1687</td>\n",
       "      <td>Base of Trig-point on Ivinghoe Beacon</td>\n",
       "      <td>List the characters on metal plate?</td>\n",
       "      <td>NaN</td>\n",
       "    </tr>\n",
       "    <tr>\n",
       "      <th>3</th>\n",
       "      <td>4</td>\n",
       "      <td>SP 9685 1687</td>\n",
       "      <td>The HG below Gallows Hill</td>\n",
       "      <td>Who donated the gate in 2011?</td>\n",
       "      <td>NaN</td>\n",
       "    </tr>\n",
       "    <tr>\n",
       "      <th>4</th>\n",
       "      <td>5</td>\n",
       "      <td>SP 9700 1582</td>\n",
       "      <td>FPS before entering pine trees</td>\n",
       "      <td>What Trail is it?</td>\n",
       "      <td>NaN</td>\n",
       "    </tr>\n",
       "  </tbody>\n",
       "</table>\n",
       "</div>"
      ],
      "text/plain": [
       "   Unnamed: 0      Grid Ref                               Location  \\\n",
       "0           1  SP 9452 1567                      Pitstone Windmill   \n",
       "1           2  SP 9589 1534                        FPS at X tracks   \n",
       "2           3  SP 9596 1687  Base of Trig-point on Ivinghoe Beacon   \n",
       "3           4  SP 9685 1687              The HG below Gallows Hill   \n",
       "4           5  SP 9700 1582         FPS before entering pine trees   \n",
       "\n",
       "                              Question  Answer  \n",
       "0   How many steps up to the windmill?     NaN  \n",
       "1    How far to Ivinghoe Beacon in km?     NaN  \n",
       "2  List the characters on metal plate?     NaN  \n",
       "3        Who donated the gate in 2011?     NaN  \n",
       "4                    What Trail is it?     NaN  "
      ]
     },
     "execution_count": 35,
     "metadata": {},
     "output_type": "execute_result"
    }
   ],
   "source": [
    "df = pd.read_csv('coords.csv')\n",
    "df.head()"
   ]
  },
  {
   "cell_type": "code",
   "execution_count": 36,
   "metadata": {},
   "outputs": [],
   "source": [
    "#grid = osgb.parse_grid(\"SP 9644 1243\")\n",
    "#lonlat = osgb.grid_to_ll(grid)"
   ]
  },
  {
   "cell_type": "code",
   "execution_count": 44,
   "metadata": {},
   "outputs": [
    {
     "data": {
      "text/html": [
       "<div>\n",
       "<style scoped>\n",
       "    .dataframe tbody tr th:only-of-type {\n",
       "        vertical-align: middle;\n",
       "    }\n",
       "\n",
       "    .dataframe tbody tr th {\n",
       "        vertical-align: top;\n",
       "    }\n",
       "\n",
       "    .dataframe thead th {\n",
       "        text-align: right;\n",
       "    }\n",
       "</style>\n",
       "<table border=\"1\" class=\"dataframe\">\n",
       "  <thead>\n",
       "    <tr style=\"text-align: right;\">\n",
       "      <th></th>\n",
       "      <th>Unnamed: 0</th>\n",
       "      <th>Grid Ref</th>\n",
       "      <th>Location</th>\n",
       "      <th>Question</th>\n",
       "      <th>Answer</th>\n",
       "      <th>lat_long</th>\n",
       "    </tr>\n",
       "  </thead>\n",
       "  <tbody>\n",
       "    <tr>\n",
       "      <th>0</th>\n",
       "      <td>1</td>\n",
       "      <td>SP 9452 1567</td>\n",
       "      <td>Pitstone Windmill</td>\n",
       "      <td>How many steps up to the windmill?</td>\n",
       "      <td>NaN</td>\n",
       "      <td>(51.831665, -0.629699)</td>\n",
       "    </tr>\n",
       "    <tr>\n",
       "      <th>1</th>\n",
       "      <td>2</td>\n",
       "      <td>SP 9589 1534</td>\n",
       "      <td>FPS at X tracks</td>\n",
       "      <td>How far to Ivinghoe Beacon in km?</td>\n",
       "      <td>NaN</td>\n",
       "      <td>(51.828466, -0.609916)</td>\n",
       "    </tr>\n",
       "    <tr>\n",
       "      <th>2</th>\n",
       "      <td>3</td>\n",
       "      <td>SP 9596 1687</td>\n",
       "      <td>Base of Trig-point on Ivinghoe Beacon</td>\n",
       "      <td>List the characters on metal plate?</td>\n",
       "      <td>NaN</td>\n",
       "      <td>(51.842206, -0.608476)</td>\n",
       "    </tr>\n",
       "    <tr>\n",
       "      <th>3</th>\n",
       "      <td>4</td>\n",
       "      <td>SP 9685 1687</td>\n",
       "      <td>The HG below Gallows Hill</td>\n",
       "      <td>Who donated the gate in 2011?</td>\n",
       "      <td>NaN</td>\n",
       "      <td>(51.842053, -0.595561)</td>\n",
       "    </tr>\n",
       "    <tr>\n",
       "      <th>4</th>\n",
       "      <td>5</td>\n",
       "      <td>SP 9700 1582</td>\n",
       "      <td>FPS before entering pine trees</td>\n",
       "      <td>What Trail is it?</td>\n",
       "      <td>NaN</td>\n",
       "      <td>(51.832589, -0.593679)</td>\n",
       "    </tr>\n",
       "  </tbody>\n",
       "</table>\n",
       "</div>"
      ],
      "text/plain": [
       "   Unnamed: 0      Grid Ref                               Location  \\\n",
       "0           1  SP 9452 1567                      Pitstone Windmill   \n",
       "1           2  SP 9589 1534                        FPS at X tracks   \n",
       "2           3  SP 9596 1687  Base of Trig-point on Ivinghoe Beacon   \n",
       "3           4  SP 9685 1687              The HG below Gallows Hill   \n",
       "4           5  SP 9700 1582         FPS before entering pine trees   \n",
       "\n",
       "                              Question  Answer                lat_long  \n",
       "0   How many steps up to the windmill?     NaN  (51.831665, -0.629699)  \n",
       "1    How far to Ivinghoe Beacon in km?     NaN  (51.828466, -0.609916)  \n",
       "2  List the characters on metal plate?     NaN  (51.842206, -0.608476)  \n",
       "3        Who donated the gate in 2011?     NaN  (51.842053, -0.595561)  \n",
       "4                    What Trail is it?     NaN  (51.832589, -0.593679)  "
      ]
     },
     "execution_count": 44,
     "metadata": {},
     "output_type": "execute_result"
    }
   ],
   "source": [
    "df['lat_long']=df['Grid Ref'].apply(osgb.parse_grid).apply(osgb.grid_to_ll)\n",
    "df.head()"
   ]
  }
 ],
 "metadata": {
  "kernelspec": {
   "display_name": ".venv",
   "language": "python",
   "name": "python3"
  },
  "language_info": {
   "codemirror_mode": {
    "name": "ipython",
    "version": 3
   },
   "file_extension": ".py",
   "mimetype": "text/x-python",
   "name": "python",
   "nbconvert_exporter": "python",
   "pygments_lexer": "ipython3",
   "version": "3.11.0"
  },
  "orig_nbformat": 4,
  "vscode": {
   "interpreter": {
    "hash": "8fe41a5527e44e770a5b10915703bc839dbc8350bda0a55163374b0033d1e0ec"
   }
  }
 },
 "nbformat": 4,
 "nbformat_minor": 2
}
